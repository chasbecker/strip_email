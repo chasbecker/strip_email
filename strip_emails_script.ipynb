{
  "cells": [
    {
      "metadata": {
        "trusted": true
      },
      "cell_type": "markdown",
      "source": "Pure base Python 3.6\nThis is a very naive method to strip email addresses.\nHopefully, it illustrates the basic skeleton of an approach."
    },
    {
      "metadata": {
        "trusted": true
      },
      "cell_type": "code",
      "source": "import time",
      "execution_count": 1,
      "outputs": []
    },
    {
      "metadata": {
        "trusted": true
      },
      "cell_type": "code",
      "source": "start_t = time.time()\n\ni = open('typical_comment.txt', 'r')\nin_txt = i.read()\ni.close()\n\nout_txt = \"\"\nwords = in_txt.split(' ')\nfor word in words:\n    if '@' in word:\n        continue\n    else:\n        out_txt += (word + \" \")\n\no = open('no_email.txt', 'w')\no.write( out_txt )\no.close()\n\nstop_t = time.time()\nprint(\"Execution time: \" + \"%.2f\" % ( stop_t - start_t) + \"    Now check the file 'no_mail.txt'\")",
      "execution_count": 4,
      "outputs": [
        {
          "output_type": "stream",
          "text": "Execution time: 0.38    Now check the file 'no_mail.txt'\n",
          "name": "stdout"
        }
      ]
    },
    {
      "metadata": {
        "trusted": true
      },
      "cell_type": "code",
      "source": "",
      "execution_count": null,
      "outputs": []
    }
  ],
  "metadata": {
    "kernelspec": {
      "name": "python36",
      "display_name": "Python 3.6",
      "language": "python"
    },
    "language_info": {
      "mimetype": "text/x-python",
      "nbconvert_exporter": "python",
      "name": "python",
      "pygments_lexer": "ipython3",
      "version": "3.6.6",
      "file_extension": ".py",
      "codemirror_mode": {
        "version": 3,
        "name": "ipython"
      }
    }
  },
  "nbformat": 4,
  "nbformat_minor": 2
}